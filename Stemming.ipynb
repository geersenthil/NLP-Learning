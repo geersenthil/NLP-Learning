{
  "nbformat": 4,
  "nbformat_minor": 0,
  "metadata": {
    "colab": {
      "name": "Stemming.ipynb",
      "provenance": [],
      "authorship_tag": "ABX9TyN5s7PcceSa54xMj5TjD7/8",
      "include_colab_link": true
    },
    "kernelspec": {
      "name": "python3",
      "display_name": "Python 3"
    },
    "language_info": {
      "name": "python"
    }
  },
  "cells": [
    {
      "cell_type": "markdown",
      "metadata": {
        "id": "view-in-github",
        "colab_type": "text"
      },
      "source": [
        "<a href=\"https://colab.research.google.com/github/geersenthil/NLP-Learning/blob/main/Stemming.ipynb\" target=\"_parent\"><img src=\"https://colab.research.google.com/assets/colab-badge.svg\" alt=\"Open In Colab\"/></a>"
      ]
    },
    {
      "cell_type": "markdown",
      "source": [
        "Stemming and Lemmatization\n",
        "\n",
        "- Stemming is finding the root word associated with the words.\n"
      ],
      "metadata": {
        "id": "tOT9Jrfik1ZM"
      }
    },
    {
      "cell_type": "markdown",
      "source": [
        ""
      ],
      "metadata": {
        "id": "Um55FT0lFTpt"
      }
    },
    {
      "cell_type": "code",
      "execution_count": 2,
      "metadata": {
        "id": "9SPnPViUj4GW"
      },
      "outputs": [],
      "source": [
        "words = ['run','runner', 'running','ran','runs', 'easily', 'fairly' ]"
      ]
    },
    {
      "cell_type": "code",
      "source": [
        "import nltk"
      ],
      "metadata": {
        "id": "0ObDHMZZmeU2"
      },
      "execution_count": 3,
      "outputs": []
    },
    {
      "cell_type": "code",
      "source": [
        "from nltk.stem.porter import PorterStemmer\n",
        "from nltk.stem.snowball import SnowballStemmer"
      ],
      "metadata": {
        "id": "WF8ZAdB6mhuA"
      },
      "execution_count": 4,
      "outputs": []
    },
    {
      "cell_type": "code",
      "source": [
        "p_stemmer = PorterStemmer()\n",
        "s_stemmer = SnowballStemmer(language='english')"
      ],
      "metadata": {
        "id": "aHD20kufmytb"
      },
      "execution_count": 5,
      "outputs": []
    },
    {
      "cell_type": "code",
      "source": [
        "for word in words:\n",
        "  print(word + ' -----------' + p_stemmer.stem(word))"
      ],
      "metadata": {
        "colab": {
          "base_uri": "https://localhost:8080/"
        },
        "id": "boeZkIc4CrKd",
        "outputId": "56656935-a15e-4e1f-e06a-f00bf5bd0e6d"
      },
      "execution_count": 6,
      "outputs": [
        {
          "output_type": "stream",
          "name": "stdout",
          "text": [
            "run -----------run\n",
            "runner -----------runner\n",
            "running -----------run\n",
            "ran -----------ran\n",
            "runs -----------run\n",
            "easily -----------easili\n",
            "fairly -----------fairli\n"
          ]
        }
      ]
    },
    {
      "cell_type": "code",
      "source": [
        "for word in words:\n",
        "  print(word + ' ----------------' + s_stemmer.stem(word))"
      ],
      "metadata": {
        "id": "V49J0nuxOynZ",
        "colab": {
          "base_uri": "https://localhost:8080/"
        },
        "outputId": "35c41457-e52c-4a91-9cd5-8ec16658fe3a"
      },
      "execution_count": 9,
      "outputs": [
        {
          "output_type": "stream",
          "name": "stdout",
          "text": [
            "run ----------------run\n",
            "runner ----------------runner\n",
            "running ----------------run\n",
            "ran ----------------ran\n",
            "runs ----------------run\n",
            "easily ----------------easili\n",
            "fairly ----------------fair\n"
          ]
        }
      ]
    },
    {
      "cell_type": "markdown",
      "source": [
        "Lemmatization"
      ],
      "metadata": {
        "id": "dfUUYLuIFsQi"
      }
    },
    {
      "cell_type": "code",
      "source": [
        "import spacy\n",
        "nlp = spacy.load('en_core_web_sm')"
      ],
      "metadata": {
        "id": "dnpEbl1wES7b"
      },
      "execution_count": 10,
      "outputs": []
    },
    {
      "cell_type": "code",
      "source": [
        "doc1 = nlp(\"The striped bats are hanging on their feet for best\")"
      ],
      "metadata": {
        "id": "5YwuZWuVF10H"
      },
      "execution_count": 11,
      "outputs": []
    },
    {
      "cell_type": "code",
      "source": [
        "for token in doc1:\n",
        "  print(token.text, '\\t', token.lemma_)"
      ],
      "metadata": {
        "colab": {
          "base_uri": "https://localhost:8080/"
        },
        "id": "olVT5ddMF4eK",
        "outputId": "afc3b9d4-4423-439e-9b65-1689387fe208"
      },
      "execution_count": 12,
      "outputs": [
        {
          "output_type": "stream",
          "name": "stdout",
          "text": [
            "The \t the\n",
            "striped \t stripe\n",
            "bats \t bat\n",
            "are \t be\n",
            "hanging \t hang\n",
            "on \t on\n",
            "their \t -PRON-\n",
            "feet \t foot\n",
            "for \t for\n",
            "best \t good\n"
          ]
        }
      ]
    },
    {
      "cell_type": "code",
      "source": [
        "s1 = \"The striped bats are hanging on their feet for best\"\n",
        "for word in s1.split():\n",
        "  print(word + ' ------  ' +p_stemmer.stem(word))"
      ],
      "metadata": {
        "id": "dEihc6YmGDCn",
        "outputId": "316871e5-3c91-48c9-e51d-fbc27f599080",
        "colab": {
          "base_uri": "https://localhost:8080/"
        }
      },
      "execution_count": 13,
      "outputs": [
        {
          "output_type": "stream",
          "name": "stdout",
          "text": [
            "The ------  the\n",
            "striped ------  stripe\n",
            "bats ------  bat\n",
            "are ------  are\n",
            "hanging ------  hang\n",
            "on ------  on\n",
            "their ------  their\n",
            "feet ------  feet\n",
            "for ------  for\n",
            "best ------  best\n"
          ]
        }
      ]
    }
  ]
}